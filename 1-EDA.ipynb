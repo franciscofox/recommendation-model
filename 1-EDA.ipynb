{
 "cells": [
  {
   "cell_type": "markdown",
   "metadata": {},
   "source": [
    "# Setup"
   ]
  },
  {
   "cell_type": "code",
   "execution_count": 3,
   "metadata": {},
   "outputs": [],
   "source": [
    "import pandas as pd\n",
    "import numpy as np\n",
    "import matplotlib.pyplot as plt\n",
    "import matplotlib.dates as mdates\n",
    "import seaborn as sns\n",
    "\n",
    "def import_data(name):\n",
    "    df = pd.read_csv(name)\n",
    "    return df"
   ]
  },
  {
   "cell_type": "markdown",
   "metadata": {},
   "source": [
    "# Introducción"
   ]
  },
  {
   "cell_type": "markdown",
   "metadata": {},
   "source": [
    "Se busca \"desarrollar un modelo de clasificación que permita discernir qué productos comprará cada uno de los clientes en su próximo pedido\".\n",
    "\n",
    "Ingesto los datos de transacciones:"
   ]
  },
  {
   "cell_type": "code",
   "execution_count": 2,
   "metadata": {},
   "outputs": [
    {
     "name": "stdout",
     "output_type": "stream",
     "text": [
      "<class 'pandas.core.frame.DataFrame'>\n",
      "RangeIndex: 280828 entries, 0 to 280827\n",
      "Data columns (total 6 columns):\n",
      " #   Column            Non-Null Count   Dtype         \n",
      "---  ------            --------------   -----         \n",
      " 0   Unnamed: 0        280828 non-null  int64         \n",
      " 1   ACCOUNT_ID        280828 non-null  int64         \n",
      " 2   SKU_ID            280828 non-null  int64         \n",
      " 3   INVOICE_DATE      280828 non-null  datetime64[ns]\n",
      " 4   ORDER_ID          280828 non-null  object        \n",
      " 5   ITEMS_PHYS_CASES  280828 non-null  float64       \n",
      "dtypes: datetime64[ns](1), float64(1), int64(3), object(1)\n",
      "memory usage: 12.9+ MB\n"
     ]
    }
   ],
   "source": [
    "transacciones = import_data('../Algoselling transacciones.csv')\n",
    "transacciones['INVOICE_DATE'] = pd.to_datetime(transacciones['INVOICE_DATE'], format='%Y%m%d')\n",
    "transacciones.info()"
   ]
  },
  {
   "cell_type": "markdown",
   "metadata": {},
   "source": [
    "# 1. User Activity Feature"
   ]
  },
  {
   "cell_type": "markdown",
   "metadata": {},
   "source": [
    "A primer orden, asumo que las variables predominantes en el comportamiento de compra de los clientes son aquellas relacionadas con sus compras pasadas. Para eso, comienzo enfocándome en analizar cómo se relaciona el pedido de un cliente con sus pedidos anteriores, y así entender las variables más importantes para el sistema de recomendación."
   ]
  },
  {
   "cell_type": "markdown",
   "metadata": {},
   "source": [
    "Defino nuevas variables para entender mejor el **contexto de cada transacción**:\n",
    "- 'last_time_bought': Última vez que el cliente compró ese producto. (Datetime)\n",
    "- 'last_transaction_date': Fecha de la última transacción de ese cliente. (Datetime)\n",
    "- 'has_bought_before': Si es la primera compra del cliente. (Boolean)"
   ]
  },
  {
   "cell_type": "code",
   "execution_count": 4,
   "metadata": {},
   "outputs": [
    {
     "name": "stdout",
     "output_type": "stream",
     "text": [
      "<class 'pandas.core.frame.DataFrame'>\n",
      "Int64Index: 280828 entries, 136114 to 142304\n",
      "Data columns (total 9 columns):\n",
      " #   Column                 Non-Null Count   Dtype         \n",
      "---  ------                 --------------   -----         \n",
      " 0   Unnamed: 0             280828 non-null  int64         \n",
      " 1   ACCOUNT_ID             280828 non-null  int64         \n",
      " 2   SKU_ID                 280828 non-null  int64         \n",
      " 3   INVOICE_DATE           280828 non-null  datetime64[ns]\n",
      " 4   ORDER_ID               280828 non-null  object        \n",
      " 5   ITEMS_PHYS_CASES       280828 non-null  float64       \n",
      " 6   last_time_bought       163671 non-null  datetime64[ns]\n",
      " 7   last_transaction_date  276293 non-null  datetime64[ns]\n",
      " 8   has_bought_before      280828 non-null  bool          \n",
      "dtypes: bool(1), datetime64[ns](3), float64(1), int64(3), object(1)\n",
      "memory usage: 19.6+ MB\n"
     ]
    }
   ],
   "source": [
    "transacciones = transacciones.sort_values('INVOICE_DATE')\n",
    "transacciones['last_time_bought'] = transacciones.groupby(['ACCOUNT_ID', 'SKU_ID'])['INVOICE_DATE'].shift(1)\n",
    "transacciones['last_transaction_date'] = transacciones.groupby('ACCOUNT_ID')['INVOICE_DATE'].shift(1)\n",
    "transacciones['has_bought_before'] = transacciones['last_time_bought'].notna()\n",
    "\n",
    "transacciones.info()"
   ]
  },
  {
   "cell_type": "markdown",
   "metadata": {},
   "source": [
    "En principio, me interesa saber cual es el comportamiento de compras pasadas del cliente. Para eso busco porcentaje de transacciones donde se repite el mismo producto que se adquirió en la compra inmediatamente anterior y porcentaje de transacciones en las cuales el cliente compra productos que no compró anteriormente.\n",
    "\n",
    "Busco promedios de interés:"
   ]
  },
  {
   "cell_type": "code",
   "execution_count": 5,
   "metadata": {},
   "outputs": [
    {
     "name": "stdout",
     "output_type": "stream",
     "text": [
      "A. Porcentaje de transacciones donde el cliente repite el producto de la última compra:  7.61 %\n",
      "B. Porcentaje de transacciones donde el cliente ya compró en la app y compro ese producto:  58.28 %\n"
     ]
    }
   ],
   "source": [
    "df = transacciones.dropna(subset=['last_time_bought', 'last_transaction_date'])\n",
    "repeating_sku_from_last_transaction = round((df['last_time_bought'] == df['last_transaction_date']).mean() * 100, 2)\n",
    "print(\"A. Porcentaje de transacciones donde el cliente repite el producto de la última compra: \", repeating_sku_from_last_transaction, '%')\n",
    "\n",
    "filtered_df = transacciones[(transacciones['has_bought_before'] == True) & (transacciones['last_time_bought'].notna())]\n",
    "old_clients_repeating_sku = round(len(filtered_df) / len(transacciones) * 100, 2)\n",
    "print(\"B. Porcentaje de transacciones donde el cliente ya compró en la app y compro ese producto: \", old_clients_repeating_sku, '%')"
   ]
  },
  {
   "cell_type": "markdown",
   "metadata": {},
   "source": [
    "A. El primer dato indica que es poco probable que el cliente repita el producto de la última orden que hizo. Esto no nos aporta información útil para algoritmo de recomendación.\n",
    "\n",
    "B. Si bien este porcentaje no es muy alto (58.28%) marca la tendencia de que el cliente podría preferir comprar productos que ya compró en la app. Desarrollo sobre este punto:"
   ]
  },
  {
   "cell_type": "markdown",
   "metadata": {},
   "source": [
    "### Período de incubación $\\tau$:"
   ]
  },
  {
   "cell_type": "markdown",
   "metadata": {},
   "source": [
    "Introduzco el concepto de **período de incubación $\\tau$**: \n",
    "El período de incubación se refiere al tiempo que transcurre desde que un cliente o usuario adquiere la aplicación hasta que comienza a utilizarla de manera regular y predecible. Durante este período, los usuarios pueden estar explorando las funciones de la aplicación, familiarizándose con su interfaz y determinando su utilidad en su vida cotidiana.\n",
    "\n",
    "Lo considero relevante en el caso de BEES ya que los clientes pueden probar distintas estrategias de compra de productos hasta que finalmente se deciden por esta app y la utilizan regularmente.\n",
    "\n",
    "Para este caso, si se utiliza en principio un $\\tau = 2$ meses se obtienen los siguientes resultados:"
   ]
  },
  {
   "cell_type": "code",
   "execution_count": 6,
   "metadata": {},
   "outputs": [],
   "source": [
    "stationary_threshold = 2 #months\n",
    "\n",
    "# add column first_client_transaction\n",
    "transacciones['first_client_transaction'] = transacciones.groupby('ACCOUNT_ID')['INVOICE_DATE'].transform('min')\n",
    "\n",
    "# filter transactions where first_client_transaction is at least 2 months before the transaction date\n",
    "transacciones['time_since_first'] = transacciones['INVOICE_DATE'] - transacciones['first_client_transaction']\n",
    "transacciones['time_since_first'] = transacciones['time_since_first'] / np.timedelta64(1, 'M')\n",
    "transacciones_estacionarias = transacciones[transacciones['time_since_first'] >= stationary_threshold]\n"
   ]
  },
  {
   "cell_type": "code",
   "execution_count": 7,
   "metadata": {},
   "outputs": [
    {
     "name": "stdout",
     "output_type": "stream",
     "text": [
      "A. Porcentaje de transacciones donde el cliente repite el producto de la última compra:  5.95 %\n",
      "B. Porcentaje de transacciones donde el cliente ya compró en la app y compro ese producto:  76.65 %\n"
     ]
    }
   ],
   "source": [
    "filtered_df = transacciones_estacionarias.dropna(subset=['last_time_bought', 'last_transaction_date'])\n",
    "repeating_sku_from_last_transaction = round((filtered_df['last_time_bought'] == filtered_df['last_transaction_date']).mean() * 100, 2)\n",
    "print(\"A. Porcentaje de transacciones donde el cliente repite el producto de la última compra: \", repeating_sku_from_last_transaction, '%')\n",
    "\n",
    "filtered_df = transacciones_estacionarias[(transacciones_estacionarias['has_bought_before'] == True) & (transacciones_estacionarias['last_time_bought'].notna())]\n",
    "old_clients_repeating_sku = round(len(filtered_df) / len(transacciones_estacionarias) * 100, 2)\n",
    "print(\"B. Porcentaje de transacciones donde el cliente ya compró en la app y compro ese producto: \", old_clients_repeating_sku, '%')"
   ]
  },
  {
   "cell_type": "markdown",
   "metadata": {},
   "source": [
    "A. $\\tau$ no influiría considerablemente en cuánto repite el producto en 2 órdenes seguidas un mismo cliente.\n",
    "\n",
    "B. Clientes con mayor antiguedad en la app alcanzan un estacionario y el $~76\\%$ de sus transacciones son de productos que ya han comprado."
   ]
  },
  {
   "cell_type": "markdown",
   "metadata": {},
   "source": [
    "### Análisis de $\\tau$"
   ]
  },
  {
   "cell_type": "markdown",
   "metadata": {},
   "source": [
    "Analizo con mayor profundidad si existe una correlación marcada entre el período de incubación y la probabilidad de que el cliente elija comprar un producto ya adquirido previamente."
   ]
  },
  {
   "cell_type": "code",
   "execution_count": 8,
   "metadata": {},
   "outputs": [
    {
     "data": {
      "image/png": "[encoded data removed]",
      "text/plain": [
       "<Figure size 432x288 with 1 Axes>"
      ]
     },
     "metadata": {},
     "output_type": "display_data"
    }
   ],
   "source": [
    "taus = [.5, 1, 1.5, 2, 2.5]\n",
    "\n",
    "# Dictionary to store the results\n",
    "results = {}\n",
    "\n",
    "# Iterate over the thresholds\n",
    "for tau in taus:\n",
    "    # Filter transactions where first_client_transaction is at least tau months before the transaction date\n",
    "    transacciones['time_since_first'] = transacciones['INVOICE_DATE'] - transacciones['first_client_transaction']\n",
    "    transacciones['time_since_first'] = transacciones['time_since_first'] / np.timedelta64(1, 'M')\n",
    "    transacciones_estacionarias = transacciones[transacciones['time_since_first'] >= tau]\n",
    "    \n",
    "    # Calculate the percentage of old clients repeating SKU\n",
    "    filtered_df = transacciones_estacionarias[(transacciones_estacionarias['has_bought_before'] == True) & (transacciones_estacionarias['last_time_bought'].notna())]\n",
    "    old_clients_repeating_sku = len(filtered_df) / len(transacciones_estacionarias) * 100\n",
    "\n",
    "    # Store the result in the dictionary\n",
    "    results[tau] = old_clients_repeating_sku\n",
    "\n",
    "# Convert the dictionary to a DataFrame\n",
    "df_results = pd.DataFrame(list(results.items()), columns=['Tau', 'Percentage'])\n",
    "\n",
    "# Set the style to a seaborn theme\n",
    "sns.set_style(\"whitegrid\")\n",
    "palette = sns.color_palette(\"Blues\", len(df_results))\n",
    "df_results = df_results.sort_values('Percentage', ascending=False)\n",
    "\n",
    "# Plot the DataFrame as a bar graph\n",
    "sns.barplot(x='Tau', y='Percentage', data=df_results, palette=palette)\n",
    "plt.ylabel('Percentage')\n",
    "plt.ylim(65, 80)\n",
    "plt.title('Old Clients Repeating Products for Different Thresholds')\n",
    "# save to pdf\n",
    "plt.savefig('old_clients_repeating_products.png')\n",
    "plt.show()"
   ]
  },
  {
   "cell_type": "markdown",
   "metadata": {},
   "source": [
    "Acá sí se puede ver una tendencia marcada entre el tiempo que lleva un cliente utilizando la app y la probabilidad de que elija un producto que ya compró.\n",
    "\n",
    "En base a estas observaciones, se va a utilizar *has_bought_before* como feature principal para el sistema de recomendación."
   ]
  },
  {
   "cell_type": "markdown",
   "metadata": {},
   "source": [
    "# 2. Product-related Feature"
   ]
  },
  {
   "cell_type": "markdown",
   "metadata": {},
   "source": [
    "En esta sección se analizará la popularidad intrínseca del producto. Para eso se utilizará una nueva variable *importancia* que será la cantidad de cada producto vendida hace *n_days* días, relativo a la cantidad de productos totales vendidos en ese mismo período.\n",
    "\n",
    "Esto nos dará una idea de que tan importante/popular es el producto en el momento de la transacción y así podríamos predecir la tendencia de un cliente a elegirlo."
   ]
  },
  {
   "cell_type": "markdown",
   "metadata": {},
   "source": [
    "Agrego columna de cantidad de productos totales comerciados en los ultimos 30 días."
   ]
  },
  {
   "cell_type": "code",
   "execution_count": 9,
   "metadata": {},
   "outputs": [
    {
     "data": {
      "text/html": [
       "<div>\n",
       "<style scoped>\n",
       "    .dataframe tbody tr th:only-of-type {\n",
       "        vertical-align: middle;\n",
       "    }\n",
       "\n",
       "    .dataframe tbody tr th {\n",
       "        vertical-align: top;\n",
       "    }\n",
       "\n",
       "    .dataframe thead th {\n",
       "        text-align: right;\n",
       "    }\n",
       "</style>\n",
       "<table border=\"1\" class=\"dataframe\">\n",
       "  <thead>\n",
       "    <tr style=\"text-align: right;\">\n",
       "      <th></th>\n",
       "      <th>Unnamed: 0</th>\n",
       "      <th>ACCOUNT_ID</th>\n",
       "      <th>SKU_ID</th>\n",
       "      <th>INVOICE_DATE</th>\n",
       "      <th>ORDER_ID</th>\n",
       "      <th>ITEMS_PHYS_CASES</th>\n",
       "      <th>last_time_bought</th>\n",
       "      <th>last_transaction_date</th>\n",
       "      <th>has_bought_before</th>\n",
       "      <th>first_client_transaction</th>\n",
       "      <th>time_since_first</th>\n",
       "      <th>LAST_N_DAYS_TRANS</th>\n",
       "    </tr>\n",
       "  </thead>\n",
       "  <tbody>\n",
       "    <tr>\n",
       "      <th>136114</th>\n",
       "      <td>136114</td>\n",
       "      <td>456918</td>\n",
       "      <td>25689</td>\n",
       "      <td>2022-05-24</td>\n",
       "      <td>512-3603701-0</td>\n",
       "      <td>4.0</td>\n",
       "      <td>NaT</td>\n",
       "      <td>NaT</td>\n",
       "      <td>False</td>\n",
       "      <td>2022-05-24</td>\n",
       "      <td>0.0</td>\n",
       "      <td>0.0</td>\n",
       "    </tr>\n",
       "    <tr>\n",
       "      <th>169253</th>\n",
       "      <td>169253</td>\n",
       "      <td>398523</td>\n",
       "      <td>22321</td>\n",
       "      <td>2022-05-24</td>\n",
       "      <td>512-3599611-0</td>\n",
       "      <td>1.0</td>\n",
       "      <td>NaT</td>\n",
       "      <td>2022-05-24</td>\n",
       "      <td>False</td>\n",
       "      <td>2022-05-24</td>\n",
       "      <td>0.0</td>\n",
       "      <td>0.0</td>\n",
       "    </tr>\n",
       "    <tr>\n",
       "      <th>139930</th>\n",
       "      <td>139930</td>\n",
       "      <td>391399</td>\n",
       "      <td>19253</td>\n",
       "      <td>2022-05-24</td>\n",
       "      <td>512-3605195-0</td>\n",
       "      <td>10.0</td>\n",
       "      <td>NaT</td>\n",
       "      <td>2022-05-24</td>\n",
       "      <td>False</td>\n",
       "      <td>2022-05-24</td>\n",
       "      <td>0.0</td>\n",
       "      <td>0.0</td>\n",
       "    </tr>\n",
       "    <tr>\n",
       "      <th>168062</th>\n",
       "      <td>168062</td>\n",
       "      <td>439562</td>\n",
       "      <td>7651</td>\n",
       "      <td>2022-05-24</td>\n",
       "      <td>512-3598394-0</td>\n",
       "      <td>2.0</td>\n",
       "      <td>NaT</td>\n",
       "      <td>2022-05-24</td>\n",
       "      <td>False</td>\n",
       "      <td>2022-05-24</td>\n",
       "      <td>0.0</td>\n",
       "      <td>0.0</td>\n",
       "    </tr>\n",
       "    <tr>\n",
       "      <th>139905</th>\n",
       "      <td>139905</td>\n",
       "      <td>397146</td>\n",
       "      <td>24880</td>\n",
       "      <td>2022-05-24</td>\n",
       "      <td>512-3603702-0</td>\n",
       "      <td>3.0</td>\n",
       "      <td>NaT</td>\n",
       "      <td>2022-05-24</td>\n",
       "      <td>False</td>\n",
       "      <td>2022-05-24</td>\n",
       "      <td>0.0</td>\n",
       "      <td>0.0</td>\n",
       "    </tr>\n",
       "  </tbody>\n",
       "</table>\n",
       "</div>"
      ],
      "text/plain": [
       "        Unnamed: 0  ACCOUNT_ID  SKU_ID INVOICE_DATE       ORDER_ID  \\\n",
       "136114      136114      456918   25689   2022-05-24  512-3603701-0   \n",
       "169253      169253      398523   22321   2022-05-24  512-3599611-0   \n",
       "139930      139930      391399   19253   2022-05-24  512-3605195-0   \n",
       "168062      168062      439562    7651   2022-05-24  512-3598394-0   \n",
       "139905      139905      397146   24880   2022-05-24  512-3603702-0   \n",
       "\n",
       "        ITEMS_PHYS_CASES last_time_bought last_transaction_date  \\\n",
       "136114               4.0              NaT                   NaT   \n",
       "169253               1.0              NaT            2022-05-24   \n",
       "139930              10.0              NaT            2022-05-24   \n",
       "168062               2.0              NaT            2022-05-24   \n",
       "139905               3.0              NaT            2022-05-24   \n",
       "\n",
       "        has_bought_before first_client_transaction  time_since_first  \\\n",
       "136114              False               2022-05-24               0.0   \n",
       "169253              False               2022-05-24               0.0   \n",
       "139930              False               2022-05-24               0.0   \n",
       "168062              False               2022-05-24               0.0   \n",
       "139905              False               2022-05-24               0.0   \n",
       "\n",
       "        LAST_N_DAYS_TRANS  \n",
       "136114                0.0  \n",
       "169253                0.0  \n",
       "139930                0.0  \n",
       "168062                0.0  \n",
       "139905                0.0  "
      ]
     },
     "execution_count": 9,
     "metadata": {},
     "output_type": "execute_result"
    }
   ],
   "source": [
    "N_DAYS = 7\n",
    "\n",
    "transacciones['INVOICE_DATE'] = pd.to_datetime(transacciones['INVOICE_DATE'])\n",
    "\n",
    "transacciones.sort_values(by='INVOICE_DATE', inplace=True)\n",
    "\n",
    "def calculate_last_n_days_trans(row, df, n_days):\n",
    "    \"\"\"\n",
    "    Calculates the sum of ITEMS_PHYS_CASES for transactions up to N_DAYS before the INVOICE_DATE\n",
    "    for the same ACCOUNT_ID.\n",
    "    \"\"\"\n",
    "    cutoff_date = row['INVOICE_DATE'] - pd.Timedelta(days=n_days)\n",
    "    filtered_df = df[(df['INVOICE_DATE'] >= cutoff_date) & \n",
    "                     (df['INVOICE_DATE'] < row['INVOICE_DATE'])]\n",
    "    return filtered_df['ITEMS_PHYS_CASES'].sum()\n",
    "\n",
    "transacciones['LAST_N_DAYS_TRANS'] = transacciones.apply(calculate_last_n_days_trans, df=transacciones, n_days=N_DAYS, axis=1)\n",
    "\n",
    "transacciones.head()\n"
   ]
  },
  {
   "cell_type": "code",
   "execution_count": 10,
   "metadata": {},
   "outputs": [
    {
     "data": {
      "text/html": [
       "<div>\n",
       "<style scoped>\n",
       "    .dataframe tbody tr th:only-of-type {\n",
       "        vertical-align: middle;\n",
       "    }\n",
       "\n",
       "    .dataframe tbody tr th {\n",
       "        vertical-align: top;\n",
       "    }\n",
       "\n",
       "    .dataframe thead th {\n",
       "        text-align: right;\n",
       "    }\n",
       "</style>\n",
       "<table border=\"1\" class=\"dataframe\">\n",
       "  <thead>\n",
       "    <tr style=\"text-align: right;\">\n",
       "      <th></th>\n",
       "      <th>Unnamed: 0</th>\n",
       "      <th>ACCOUNT_ID</th>\n",
       "      <th>SKU_ID</th>\n",
       "      <th>INVOICE_DATE</th>\n",
       "      <th>ORDER_ID</th>\n",
       "      <th>ITEMS_PHYS_CASES</th>\n",
       "      <th>last_time_bought</th>\n",
       "      <th>last_transaction_date</th>\n",
       "      <th>has_bought_before</th>\n",
       "      <th>first_client_transaction</th>\n",
       "      <th>time_since_first</th>\n",
       "      <th>LAST_N_DAYS_TRANS</th>\n",
       "      <th>LAST_N_DAYS_TRANS_by_SKU</th>\n",
       "    </tr>\n",
       "  </thead>\n",
       "  <tbody>\n",
       "    <tr>\n",
       "      <th>38024</th>\n",
       "      <td>38024</td>\n",
       "      <td>140565</td>\n",
       "      <td>691</td>\n",
       "      <td>2022-05-24</td>\n",
       "      <td>512-3605294-0</td>\n",
       "      <td>1.0</td>\n",
       "      <td>NaT</td>\n",
       "      <td>2022-05-24</td>\n",
       "      <td>False</td>\n",
       "      <td>2022-05-24</td>\n",
       "      <td>0.0</td>\n",
       "      <td>0.0</td>\n",
       "      <td>0.0</td>\n",
       "    </tr>\n",
       "    <tr>\n",
       "      <th>160545</th>\n",
       "      <td>160545</td>\n",
       "      <td>453972</td>\n",
       "      <td>691</td>\n",
       "      <td>2022-05-24</td>\n",
       "      <td>512-3599684-0</td>\n",
       "      <td>2.0</td>\n",
       "      <td>NaT</td>\n",
       "      <td>2022-05-24</td>\n",
       "      <td>False</td>\n",
       "      <td>2022-05-24</td>\n",
       "      <td>0.0</td>\n",
       "      <td>0.0</td>\n",
       "      <td>0.0</td>\n",
       "    </tr>\n",
       "    <tr>\n",
       "      <th>87172</th>\n",
       "      <td>87172</td>\n",
       "      <td>391399</td>\n",
       "      <td>1473</td>\n",
       "      <td>2022-05-24</td>\n",
       "      <td>512-3605195-0</td>\n",
       "      <td>2.0</td>\n",
       "      <td>NaT</td>\n",
       "      <td>2022-05-24</td>\n",
       "      <td>False</td>\n",
       "      <td>2022-05-24</td>\n",
       "      <td>0.0</td>\n",
       "      <td>0.0</td>\n",
       "      <td>0.0</td>\n",
       "    </tr>\n",
       "    <tr>\n",
       "      <th>270689</th>\n",
       "      <td>270689</td>\n",
       "      <td>165294</td>\n",
       "      <td>1473</td>\n",
       "      <td>2022-05-24</td>\n",
       "      <td>512-3603476-0</td>\n",
       "      <td>1.0</td>\n",
       "      <td>NaT</td>\n",
       "      <td>2022-05-24</td>\n",
       "      <td>False</td>\n",
       "      <td>2022-05-24</td>\n",
       "      <td>0.0</td>\n",
       "      <td>0.0</td>\n",
       "      <td>0.0</td>\n",
       "    </tr>\n",
       "    <tr>\n",
       "      <th>234499</th>\n",
       "      <td>234499</td>\n",
       "      <td>422079</td>\n",
       "      <td>1483</td>\n",
       "      <td>2022-05-24</td>\n",
       "      <td>512-3602966-0</td>\n",
       "      <td>1.0</td>\n",
       "      <td>NaT</td>\n",
       "      <td>2022-05-24</td>\n",
       "      <td>False</td>\n",
       "      <td>2022-05-24</td>\n",
       "      <td>0.0</td>\n",
       "      <td>0.0</td>\n",
       "      <td>0.0</td>\n",
       "    </tr>\n",
       "  </tbody>\n",
       "</table>\n",
       "</div>"
      ],
      "text/plain": [
       "        Unnamed: 0  ACCOUNT_ID  SKU_ID INVOICE_DATE       ORDER_ID  \\\n",
       "38024        38024      140565     691   2022-05-24  512-3605294-0   \n",
       "160545      160545      453972     691   2022-05-24  512-3599684-0   \n",
       "87172        87172      391399    1473   2022-05-24  512-3605195-0   \n",
       "270689      270689      165294    1473   2022-05-24  512-3603476-0   \n",
       "234499      234499      422079    1483   2022-05-24  512-3602966-0   \n",
       "\n",
       "        ITEMS_PHYS_CASES last_time_bought last_transaction_date  \\\n",
       "38024                1.0              NaT            2022-05-24   \n",
       "160545               2.0              NaT            2022-05-24   \n",
       "87172                2.0              NaT            2022-05-24   \n",
       "270689               1.0              NaT            2022-05-24   \n",
       "234499               1.0              NaT            2022-05-24   \n",
       "\n",
       "        has_bought_before first_client_transaction  time_since_first  \\\n",
       "38024               False               2022-05-24               0.0   \n",
       "160545              False               2022-05-24               0.0   \n",
       "87172               False               2022-05-24               0.0   \n",
       "270689              False               2022-05-24               0.0   \n",
       "234499              False               2022-05-24               0.0   \n",
       "\n",
       "        LAST_N_DAYS_TRANS  LAST_N_DAYS_TRANS_by_SKU  \n",
       "38024                 0.0                       0.0  \n",
       "160545                0.0                       0.0  \n",
       "87172                 0.0                       0.0  \n",
       "270689                0.0                       0.0  \n",
       "234499                0.0                       0.0  "
      ]
     },
     "execution_count": 10,
     "metadata": {},
     "output_type": "execute_result"
    }
   ],
   "source": [
    "# Ensure the DataFrame is sorted by both INVOICE_DATE and SKU_ID\n",
    "N_DAYS = 7\n",
    "transacciones.sort_values(by=['INVOICE_DATE', 'SKU_ID'], inplace=True)\n",
    "\n",
    "def calculate_last_n_days_trans_by_sku(row, df, n_days):\n",
    "    \"\"\"\n",
    "    Calculates the sum of ITEMS_PHYS_CASES for transactions up to N_DAYS before the INVOICE_DATE\n",
    "    for the same ACCOUNT_ID and SKU_ID.\n",
    "    \"\"\"\n",
    "    cutoff_date = row['INVOICE_DATE'] - pd.Timedelta(days=n_days)\n",
    "    filtered_df = df[(df['SKU_ID'] == row['SKU_ID']) &\n",
    "                     (df['INVOICE_DATE'] >= cutoff_date) & \n",
    "                     (df['INVOICE_DATE'] < row['INVOICE_DATE'])]\n",
    "    return filtered_df['ITEMS_PHYS_CASES'].sum()\n",
    "\n",
    "transacciones['LAST_N_DAYS_TRANS_by_SKU'] = transacciones.apply(calculate_last_n_days_trans_by_sku, df=transacciones, n_days=N_DAYS, axis=1)\n",
    "\n",
    "transacciones.head()"
   ]
  },
  {
   "cell_type": "code",
   "execution_count": 11,
   "metadata": {},
   "outputs": [
    {
     "data": {
      "text/html": [
       "<div>\n",
       "<style scoped>\n",
       "    .dataframe tbody tr th:only-of-type {\n",
       "        vertical-align: middle;\n",
       "    }\n",
       "\n",
       "    .dataframe tbody tr th {\n",
       "        vertical-align: top;\n",
       "    }\n",
       "\n",
       "    .dataframe thead th {\n",
       "        text-align: right;\n",
       "    }\n",
       "</style>\n",
       "<table border=\"1\" class=\"dataframe\">\n",
       "  <thead>\n",
       "    <tr style=\"text-align: right;\">\n",
       "      <th></th>\n",
       "      <th>Unnamed: 0</th>\n",
       "      <th>ACCOUNT_ID</th>\n",
       "      <th>SKU_ID</th>\n",
       "      <th>INVOICE_DATE</th>\n",
       "      <th>ORDER_ID</th>\n",
       "      <th>ITEMS_PHYS_CASES</th>\n",
       "      <th>last_time_bought</th>\n",
       "      <th>last_transaction_date</th>\n",
       "      <th>has_bought_before</th>\n",
       "      <th>first_client_transaction</th>\n",
       "      <th>time_since_first</th>\n",
       "      <th>LAST_N_DAYS_TRANS</th>\n",
       "      <th>LAST_N_DAYS_TRANS_by_SKU</th>\n",
       "      <th>importancia</th>\n",
       "    </tr>\n",
       "  </thead>\n",
       "  <tbody>\n",
       "    <tr>\n",
       "      <th>38024</th>\n",
       "      <td>38024</td>\n",
       "      <td>140565</td>\n",
       "      <td>691</td>\n",
       "      <td>2022-05-24</td>\n",
       "      <td>512-3605294-0</td>\n",
       "      <td>1.0</td>\n",
       "      <td>NaT</td>\n",
       "      <td>2022-05-24</td>\n",
       "      <td>False</td>\n",
       "      <td>2022-05-24</td>\n",
       "      <td>0.0</td>\n",
       "      <td>0.0</td>\n",
       "      <td>0.0</td>\n",
       "      <td>NaN</td>\n",
       "    </tr>\n",
       "    <tr>\n",
       "      <th>160545</th>\n",
       "      <td>160545</td>\n",
       "      <td>453972</td>\n",
       "      <td>691</td>\n",
       "      <td>2022-05-24</td>\n",
       "      <td>512-3599684-0</td>\n",
       "      <td>2.0</td>\n",
       "      <td>NaT</td>\n",
       "      <td>2022-05-24</td>\n",
       "      <td>False</td>\n",
       "      <td>2022-05-24</td>\n",
       "      <td>0.0</td>\n",
       "      <td>0.0</td>\n",
       "      <td>0.0</td>\n",
       "      <td>NaN</td>\n",
       "    </tr>\n",
       "    <tr>\n",
       "      <th>87172</th>\n",
       "      <td>87172</td>\n",
       "      <td>391399</td>\n",
       "      <td>1473</td>\n",
       "      <td>2022-05-24</td>\n",
       "      <td>512-3605195-0</td>\n",
       "      <td>2.0</td>\n",
       "      <td>NaT</td>\n",
       "      <td>2022-05-24</td>\n",
       "      <td>False</td>\n",
       "      <td>2022-05-24</td>\n",
       "      <td>0.0</td>\n",
       "      <td>0.0</td>\n",
       "      <td>0.0</td>\n",
       "      <td>NaN</td>\n",
       "    </tr>\n",
       "    <tr>\n",
       "      <th>270689</th>\n",
       "      <td>270689</td>\n",
       "      <td>165294</td>\n",
       "      <td>1473</td>\n",
       "      <td>2022-05-24</td>\n",
       "      <td>512-3603476-0</td>\n",
       "      <td>1.0</td>\n",
       "      <td>NaT</td>\n",
       "      <td>2022-05-24</td>\n",
       "      <td>False</td>\n",
       "      <td>2022-05-24</td>\n",
       "      <td>0.0</td>\n",
       "      <td>0.0</td>\n",
       "      <td>0.0</td>\n",
       "      <td>NaN</td>\n",
       "    </tr>\n",
       "    <tr>\n",
       "      <th>234499</th>\n",
       "      <td>234499</td>\n",
       "      <td>422079</td>\n",
       "      <td>1483</td>\n",
       "      <td>2022-05-24</td>\n",
       "      <td>512-3602966-0</td>\n",
       "      <td>1.0</td>\n",
       "      <td>NaT</td>\n",
       "      <td>2022-05-24</td>\n",
       "      <td>False</td>\n",
       "      <td>2022-05-24</td>\n",
       "      <td>0.0</td>\n",
       "      <td>0.0</td>\n",
       "      <td>0.0</td>\n",
       "      <td>NaN</td>\n",
       "    </tr>\n",
       "  </tbody>\n",
       "</table>\n",
       "</div>"
      ],
      "text/plain": [
       "        Unnamed: 0  ACCOUNT_ID  SKU_ID INVOICE_DATE       ORDER_ID  \\\n",
       "38024        38024      140565     691   2022-05-24  512-3605294-0   \n",
       "160545      160545      453972     691   2022-05-24  512-3599684-0   \n",
       "87172        87172      391399    1473   2022-05-24  512-3605195-0   \n",
       "270689      270689      165294    1473   2022-05-24  512-3603476-0   \n",
       "234499      234499      422079    1483   2022-05-24  512-3602966-0   \n",
       "\n",
       "        ITEMS_PHYS_CASES last_time_bought last_transaction_date  \\\n",
       "38024                1.0              NaT            2022-05-24   \n",
       "160545               2.0              NaT            2022-05-24   \n",
       "87172                2.0              NaT            2022-05-24   \n",
       "270689               1.0              NaT            2022-05-24   \n",
       "234499               1.0              NaT            2022-05-24   \n",
       "\n",
       "        has_bought_before first_client_transaction  time_since_first  \\\n",
       "38024               False               2022-05-24               0.0   \n",
       "160545              False               2022-05-24               0.0   \n",
       "87172               False               2022-05-24               0.0   \n",
       "270689              False               2022-05-24               0.0   \n",
       "234499              False               2022-05-24               0.0   \n",
       "\n",
       "        LAST_N_DAYS_TRANS  LAST_N_DAYS_TRANS_by_SKU  importancia  \n",
       "38024                 0.0                       0.0          NaN  \n",
       "160545                0.0                       0.0          NaN  \n",
       "87172                 0.0                       0.0          NaN  \n",
       "270689                0.0                       0.0          NaN  \n",
       "234499                0.0                       0.0          NaN  "
      ]
     },
     "execution_count": 11,
     "metadata": {},
     "output_type": "execute_result"
    }
   ],
   "source": [
    "transacciones['importancia'] = transacciones['LAST_N_DAYS_TRANS_by_SKU']/transacciones['LAST_N_DAYS_TRANS']\n",
    "\n",
    "transacciones.head()"
   ]
  },
  {
   "cell_type": "code",
   "execution_count": 14,
   "metadata": {},
   "outputs": [
    {
     "data": {
      "image/png": "[encoded data removed]",
      "text/plain": [
       "<Figure size 720x432 with 1 Axes>"
      ]
     },
     "metadata": {},
     "output_type": "display_data"
    }
   ],
   "source": [
    "fig, ax = plt.subplots(figsize=(10, 6))\n",
    "\n",
    "SKU_IDs = [7038, 7026, 811]\n",
    "colors = ['midnightblue', 'royalblue', 'lightsteelblue']\n",
    "\n",
    "for i, SKU_ID in enumerate(SKU_IDs):\n",
    "    # filter transacciones by SKU_ID and remove duplicate dates\n",
    "    filtered = transacciones[transacciones['SKU_ID'].isin([SKU_ID])].drop_duplicates(subset=['INVOICE_DATE'])\n",
    "    filtered = filtered[filtered['INVOICE_DATE'] > '2022-06-01']\n",
    "\n",
    "    # graph importancia for each SKU_ID\n",
    "    ax.plot(filtered['INVOICE_DATE'], filtered['importancia'], label=f'SKU_ID={SKU_ID}', color=colors[i % len(colors)])\n",
    "\n",
    "ax.set_xlabel('Date')\n",
    "ax.set_ylabel('importancia')\n",
    "ax.set_title('Importancia Over Time')\n",
    "ax.legend()\n",
    "plt.yscale('log')\n",
    "plt.show()"
   ]
  },
  {
   "cell_type": "markdown",
   "metadata": {},
   "source": [
    "Se eligieron 3 productos distintos para comparar los niveles de importancia que tienen estos en el mercado.\n",
    "\n",
    "En el gráfico se muestra como estos productos tienen distintos niveles de importancia que varian en órdenes de magnitud. También se puede ver que esta importancia puede ir variando a lo largo del tiempo.\n",
    "\n",
    "Estas observaciones implican que hay una variabilidad en el volumen de compra de distintos products relativa al total de compras y es por eso que se utilizará esta variable como feature para el modelo."
   ]
  },
  {
   "cell_type": "markdown",
   "metadata": {},
   "source": [
    "# 3. Client-related Feature"
   ]
  },
  {
   "cell_type": "markdown",
   "metadata": {},
   "source": [
    "La siguiente hipótesis se basa en analizar si existe una tendencia a comprar ciertos tipos de productos según el nivel socioeconómico (NSE) del cliente."
   ]
  },
  {
   "cell_type": "code",
   "execution_count": 15,
   "metadata": {},
   "outputs": [],
   "source": [
    "atributos = import_data('../Algoselling atributos.csv')\n",
    "atributos.head()\n",
    "\n",
    "merged_df = pd.merge(transacciones, atributos, left_on='ACCOUNT_ID', right_on='POC', how='left')\n",
    "merged_df = merged_df.loc[:,~merged_df.columns.duplicated()]"
   ]
  },
  {
   "cell_type": "markdown",
   "metadata": {},
   "source": [
    "Para esto, se busca identificar aquellos productos que son mayormente adquiridos por clientes de algún NSE en particular.\n",
    "\n",
    "Para eso, se introduce el concepto de **threshold de preferencia**: este valor es el porcentaje mínimo que necesita un producto para ser considerado 'preferido' por clientes de un NSE específico. Es decir, un **threshold** de $0.7$ implica que el $70\\%$ de las ventas del producto fueron adquiridas por un NSE en particular.\n",
    "\n",
    "Se analiza a continuación el porcentaje de productos preferidos para distintos thresholds."
   ]
  },
  {
   "cell_type": "code",
   "execution_count": 16,
   "metadata": {},
   "outputs": [
    {
     "data": {
      "image/png": "[encoded data removed]",
      "text/plain": [
       "<Figure size 720x432 with 1 Axes>"
      ]
     },
     "metadata": {},
     "output_type": "display_data"
    }
   ],
   "source": [
    "def calculate_nse_product_stats(merged_df, threshold):\n",
    "    selected_columns = ['SKU_ID', 'ACCOUNT_ID', 'ITEMS_PHYS_CASES', 'nse']\n",
    "    \n",
    "    nse_product_df = merged_df[selected_columns]\n",
    "    nse_product_df = nse_product_df[nse_product_df['nse'] != 'S/D']\n",
    "    \n",
    "    # Calculo cantidades totales de produsctos vendidos en cada nse para usar como relaciones en los productos efectivos\n",
    "    total_amount_by_nse = nse_product_df.groupby('nse')['ITEMS_PHYS_CASES'].sum().reset_index()\n",
    "    total_amount_by_nse = total_amount_by_nse.rename(columns={'ITEMS_PHYS_CASES': 'Total_Amount_Sold'})\n",
    "    \n",
    "    nse_product_agg_df = nse_product_df.groupby(['nse', 'SKU_ID']).agg({'ITEMS_PHYS_CASES': 'sum'}).reset_index()\n",
    "    \n",
    "    sku_id_count = nse_product_agg_df['SKU_ID'].nunique()\n",
    "    \n",
    "    nse_product_agg_df = nse_product_agg_df.rename(columns={'ITEMS_PHYS_CASES': 'Total_Items_Purchased_by_nse'})\n",
    "    \n",
    "    nse_product_agg_df = pd.merge(nse_product_agg_df, total_amount_by_nse, on='nse', how='left')\n",
    "    \n",
    "    # Creo la variable de items effectivos para tener en cuenta la cantidad de items que se vende en cada nse\n",
    "    nse_product_agg_df['Effective_Items_Purchased_by_nse'] = nse_product_agg_df['Total_Items_Purchased_by_nse'] / nse_product_agg_df['Total_Amount_Sold']\n",
    "    \n",
    "    nse_product_agg_df['Effective_Total_Items_Purchased'] = nse_product_agg_df.groupby('SKU_ID')['Effective_Items_Purchased_by_nse'].transform('sum')\n",
    "    \n",
    "    # Normalizo y saco proporciones de cada item por nse\n",
    "    nse_product_agg_df['Proportion_by_nse'] = nse_product_agg_df['Effective_Items_Purchased_by_nse'] / nse_product_agg_df['Effective_Total_Items_Purchased']\n",
    "    \n",
    "    nse_product_agg_df['is_primary_nse'] = nse_product_agg_df['Proportion_by_nse'] > threshold\n",
    "    \n",
    "    primary_nse_count = len(nse_product_agg_df[nse_product_agg_df['is_primary_nse']])\n",
    "    \n",
    "    return sku_id_count, primary_nse_count, primary_nse_count / sku_id_count\n",
    "\n",
    "def plot_results(results):\n",
    "    results_df = pd.DataFrame(results, columns=['Threshold', 'Total_Products', 'Primary_NSE_Count', 'Proportion'])\n",
    "\n",
    "    sns.set(style=\"whitegrid\")\n",
    "    sns.set_palette(\"Blues_r\")\n",
    "\n",
    "    # Plot the results using Seaborn\n",
    "    plt.figure(figsize=(10, 6))\n",
    "    sns.lineplot(x='Threshold', y='Proportion', data=results_df, marker='o', linewidth=2)\n",
    "    plt.xlabel('Threshold')\n",
    "    plt.ylabel('Proportion of Products with Primary NSE')\n",
    "    plt.title('Proportion of Products with Primary NSE at Different Thresholds')\n",
    "    plt.show()\n",
    "\n",
    "# Implement the function for different thresholds and plot the results\n",
    "thresholds = [0.5, .55, 0.6, .65, 0.7, .75, 0.8, .85, 0.9]\n",
    "results = []\n",
    "\n",
    "for threshold in thresholds:\n",
    "    sku_count, primary_nse_count, proportion = calculate_nse_product_stats(merged_df, threshold)\n",
    "    results.append((threshold, sku_count, primary_nse_count, proportion))\n",
    "\n",
    "results_df = pd.DataFrame(results, columns=['Threshold', 'Total_Products', 'Primary_NSE_Count', 'Proportion'])\n",
    "plot_results(results)"
   ]
  },
  {
   "cell_type": "markdown",
   "metadata": {},
   "source": [
    "Se puede observar que existe una preferencia de los productos a ser adquiridos por cliented de distintos nse.\n",
    "\n",
    "El $76.46\\%$ de los productos se dirigen en más de la mitad de sus unidades vendidas a cierto NSE.\n",
    "\n",
    "Para entender mejor cuales son los nse que mayormente compran algun tipo de producto, desglosamos el análisis anterior en los diferentes nse."
   ]
  },
  {
   "cell_type": "code",
   "execution_count": 17,
   "metadata": {},
   "outputs": [
    {
     "data": {
      "image/png": "[encoded data removed]",
      "text/plain": [
       "<Figure size 720x432 with 1 Axes>"
      ]
     },
     "metadata": {},
     "output_type": "display_data"
    }
   ],
   "source": [
    "def get_primary_nse_products(merged_df):\n",
    "    threshold = 0.5\n",
    "    \n",
    "    selected_columns = ['SKU_ID', 'ACCOUNT_ID', 'ITEMS_PHYS_CASES', 'nse']\n",
    "    \n",
    "    nse_product_df = merged_df[selected_columns]\n",
    "    nse_product_df = nse_product_df[nse_product_df['nse'] != 'S/D']\n",
    "\n",
    "    total_amount_by_nse = nse_product_df.groupby('nse')['ITEMS_PHYS_CASES'].sum().reset_index()\n",
    "    total_amount_by_nse = total_amount_by_nse.rename(columns={'ITEMS_PHYS_CASES': 'Total_Amount_Sold'})\n",
    "    \n",
    "    nse_product_agg_df = nse_product_df.groupby(['nse', 'SKU_ID']).agg({'ITEMS_PHYS_CASES': 'sum'}).reset_index()\n",
    "    \n",
    "    nse_product_agg_df = nse_product_agg_df.rename(columns={'ITEMS_PHYS_CASES': 'Total_Items_Purchased_by_nse'})\n",
    "    \n",
    "    nse_product_agg_df = pd.merge(nse_product_agg_df, total_amount_by_nse, on='nse', how='left')\n",
    "\n",
    "    nse_product_agg_df['Effective_Items_Purchased_by_nse'] = nse_product_agg_df['Total_Items_Purchased_by_nse'] / nse_product_agg_df['Total_Amount_Sold']\n",
    "    \n",
    "    nse_product_agg_df['Effective_Total_Items_Purchased'] = nse_product_agg_df.groupby('SKU_ID')['Effective_Items_Purchased_by_nse'].transform('sum')\n",
    "\n",
    "    nse_product_agg_df['Proportion_by_nse'] = nse_product_agg_df['Effective_Items_Purchased_by_nse'] / nse_product_agg_df['Effective_Total_Items_Purchased']\n",
    "    \n",
    "    nse_product_agg_df['is_primary_nse'] = nse_product_agg_df['Proportion_by_nse'] > threshold\n",
    "    \n",
    "    primary_nse_df = nse_product_agg_df[nse_product_agg_df['is_primary_nse']]\n",
    "    \n",
    "    return primary_nse_df\n",
    "\n",
    "df = get_primary_nse_products(merged_df)\n",
    "\n",
    "def plot_proportion_by_nse(df):\n",
    "    # Reset the index of the DataFrame to use it in the plot\n",
    "    df.reset_index(inplace=True)\n",
    "\n",
    "    # Create a scatter plot\n",
    "    plt.figure(figsize=(10, 6))\n",
    "    sns.scatterplot(x='index', y='Proportion_by_nse', hue='nse', data=df, palette='coolwarm')\n",
    "\n",
    "    plt.title('Preferencia de compras para cada producto por NSE')\n",
    "    plt.ylabel('Proportion_by_nse')\n",
    "    plt.xticks([])\n",
    "    plt.xlabel('')\n",
    "    plt.legend(title='NSE', bbox_to_anchor=(1, 1), loc='upper left')\n",
    "    plt.savefig('preferencia_compras.png')\n",
    "    plt.show()\n",
    "    \n",
    "plot_proportion_by_nse(df)"
   ]
  },
  {
   "cell_type": "markdown",
   "metadata": {},
   "source": [
    "En este diagrama puede verse como hay una distribución de productos que tienen cierta preferencia en cada NSE.\n",
    "\n",
    "Esto implica que el NSE del cliente es una variable a tener en cuenta para la recomendación de productos, por lo que se tomará como feature para el modelo a entrenar."
   ]
  },
  {
   "cell_type": "markdown",
   "metadata": {},
   "source": [
    "# Resumen"
   ]
  },
  {
   "cell_type": "markdown",
   "metadata": {},
   "source": [
    "Se plantearon 3 hipótesis de variables independientes que influyen en el comportamiento de compra de los clientes.\n",
    "\n",
    "Estas fueron:\n",
    "- **'*has_bought_before*'**: Es una variable basada en la actividad del cliente que permite saber si un producto es compatible con el cliente asociado.\n",
    "- **Importancia**: Esta variable, basada en la naturaleza propia del producto, permite entender que tan popular es cierto producto para asi ser recomendado en mayor o menor medida.\n",
    "- **NSE**: El Nivel Socio Económico del cliente es otra variable, asociada a la naturaleza del cliente, que permite entender su preferencia sobre cierto tipos de productos.\n",
    "\n",
    "Se obtuvieron insights que aportaron valor para poder determinar visualmente que estas variables son importantes para el desarrollo del modelo de recomendación."
   ]
  }
 ],
 "metadata": {
  "kernelspec": {
   "display_name": "base",
   "language": "python",
   "name": "python3"
  },
  "language_info": {
   "codemirror_mode": {
    "name": "ipython",
    "version": 3
   },
   "file_extension": ".py",
   "mimetype": "text/x-python",
   "name": "python",
   "nbconvert_exporter": "python",
   "pygments_lexer": "ipython3",
   "version": "3.9.7"
  }
 },
 "nbformat": 4,
 "nbformat_minor": 2
}
